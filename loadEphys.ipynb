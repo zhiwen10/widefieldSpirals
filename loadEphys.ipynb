{
 "cells": [
  {
   "cell_type": "code",
   "execution_count": 23,
   "id": "f22d54e2",
   "metadata": {},
   "outputs": [],
   "source": [
    "import os\n",
    "import numpy as np\n",
    "import matplotlib.pyplot as plt\n",
    "import pandas as pd"
   ]
  },
  {
   "cell_type": "code",
   "execution_count": 3,
   "id": "fd09cdb7",
   "metadata": {},
   "outputs": [],
   "source": [
    "ksDir = r\"\\\\steinmetzsuper1.biostr.washington.edu\\data\\Subjects\\ZYE_0060\\2022-03-24\\1\\p0_g0\\p0_g0_imec0\""
   ]
  },
  {
   "cell_type": "code",
   "execution_count": 7,
   "id": "7382e297",
   "metadata": {},
   "outputs": [],
   "source": [
    "sample_rate = 30000\n",
    "ss = np.load(os.path.join(ksDir, 'spike_times.npy'))\n",
    "st = ss.astype('float64')/sample_rate\n",
    "spikeTemplates = np.load(os.path.join(ksDir, 'spike_templates.npy'))\n",
    "\n",
    "if os.path.exists(os.path.join(ksDir, 'spike_clusters.npy')):\n",
    "    clu = np.load(os.path.join(ksDir, 'spike_clusters.npy'))\n",
    "else:\n",
    "    clu = spikeTemplates\n",
    "\n",
    "tempScalingAmps = np.load(os.path.join(ksDir, 'amplitudes.npy'))"
   ]
  },
  {
   "cell_type": "code",
   "execution_count": 24,
   "id": "f874f7f9",
   "metadata": {},
   "outputs": [],
   "source": [
    "if os.path.exists(os.path.join(ksDir, 'cluster_groups.csv')) :\n",
    "    cgsFile = os.path.join(ksDir, 'cluster_groups.csv')\n",
    "\n",
    "if os.path.exists(os.path.join(ksDir, 'cluster_group.tsv')) :\n",
    "    cgsFile = os.path.join(ksDir, 'cluster_group.tsv')\n",
    "\n",
    "cluster_table = pd.read_csv(cgsFile,sep=\"\\t\")"
   ]
  },
  {
   "cell_type": "code",
   "execution_count": 28,
   "id": "81733c09",
   "metadata": {},
   "outputs": [],
   "source": [
    "cluster_table.group = pd.Categorical(cluster_table.group)\n",
    "cluster_table['code'] = cluster_table.group.cat.codes\n",
    "noiseClusters = cluster_table[cluster_table[\"code\"]==2]"
   ]
  },
  {
   "cell_type": "code",
   "execution_count": 40,
   "id": "b6c0ff34",
   "metadata": {},
   "outputs": [
    {
     "data": {
      "text/plain": [
       "array([  1,   8,  10,  11,  13,  20,  24,  25,  26,  28,  29,  30,  35,\n",
       "        37,  41,  45,  46,  52,  53,  54,  66,  74,  75,  76,  77,  78,\n",
       "        79,  80,  82,  83,  84,  86,  89,  94, 101, 104, 106, 109, 110,\n",
       "       113, 115, 116, 120, 125, 127, 129, 132, 133, 134, 135, 136, 137,\n",
       "       138, 139, 144, 146, 148, 151, 153, 154, 155, 156, 157, 158, 160,\n",
       "       162, 164, 165, 168, 170, 171, 172, 173, 174, 175, 176, 177, 179,\n",
       "       180, 182, 184, 185, 186, 187, 190, 191, 192, 199, 201, 202, 203,\n",
       "       207, 208, 209, 211, 215, 216, 219, 220, 228, 232, 233, 235, 236,\n",
       "       240, 244, 245, 248, 254, 257, 259, 262, 264, 270, 271, 272, 275,\n",
       "       276, 277, 279, 281, 282, 286, 294, 298, 301, 305, 308, 309, 310,\n",
       "       318, 322, 329, 330, 337, 338, 343, 344, 345, 346, 349, 350, 352,\n",
       "       357, 366, 367, 369, 370, 374, 375, 378, 380, 381, 382, 383, 384,\n",
       "       385, 387, 391, 394, 396, 403, 404, 407, 408, 409, 416, 439, 442,\n",
       "       443], dtype=int64)"
      ]
     },
     "execution_count": 40,
     "metadata": {},
     "output_type": "execute_result"
    }
   ],
   "source": [
    "noiseClusters[\"cluster_id\"].to_numpy()\n",
    "cids = cluster_table[\"cluster_id\"].to_numpy()\n",
    "cgs = cluster_table[\"code\"].to_numpy()\n",
    "noise_indx = np.isin(clu,noiseClusters)\n",
    "st = st[~noise_indx]\n",
    "spikeTemplates = spikeTemplates[~noise_indx]\n",
    "tempScalingAmps = tempScalingAmps[~noise_indx]\n",
    "clu = clu[~noise_indx]\n",
    "cgs = cgs[~np.isin(cids,noiseClusters)]\n",
    "cids = cids[~np.isin(cids,noiseClusters)]"
   ]
  },
  {
   "cell_type": "code",
   "execution_count": 65,
   "id": "e6df5a74",
   "metadata": {},
   "outputs": [],
   "source": [
    "coords = np.load(os.path.join(ksDir, 'channel_positions.npy'))\n",
    "ycoords = coords[:,1]\n",
    "xcoords = coords[:,0]\n",
    "temps = np.load(os.path.join(ksDir, 'templates.npy'))"
   ]
  },
  {
   "cell_type": "code",
   "execution_count": 69,
   "id": "98124bc8",
   "metadata": {},
   "outputs": [],
   "source": [
    "class spikeStruct:\n",
    "    def __init__(self, st, spikeTemplates, clu, tempScalingAmps, cgs, cids, xcoords, ycoords, temps):\n",
    "        spikeStruct.st = st\n",
    "        spikeStruct.spikeTemplates = spikeTemplates\n",
    "        spikeStruct.clu = clu\n",
    "        spikeStruct.tempScalingAmps = tempScalingAmps\n",
    "        spikeStruct.cgs = cgs\n",
    "        spikeStruct.cids = cids\n",
    "        spikeStruct.xcoords = xcoords\n",
    "        spikeStruct.ycoords = ycoords\n",
    "        spikeStruct.temps = temps       "
   ]
  },
  {
   "cell_type": "code",
   "execution_count": 70,
   "id": "d3fa21df",
   "metadata": {},
   "outputs": [],
   "source": [
    "spikeStruct1 = spikeStruct(st, spikeTemplates, clu, tempScalingAmps, cgs, cids, xcoords, ycoords, temps)"
   ]
  }
 ],
 "metadata": {
  "kernelspec": {
   "display_name": "Python 3 (ipykernel)",
   "language": "python",
   "name": "python3"
  },
  "language_info": {
   "codemirror_mode": {
    "name": "ipython",
    "version": 3
   },
   "file_extension": ".py",
   "mimetype": "text/x-python",
   "name": "python",
   "nbconvert_exporter": "python",
   "pygments_lexer": "ipython3",
   "version": "3.8.13"
  }
 },
 "nbformat": 4,
 "nbformat_minor": 5
}
